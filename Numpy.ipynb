{
 "cells": [
  {
   "cell_type": "code",
   "execution_count": 1,
   "id": "5b2c6a5e",
   "metadata": {},
   "outputs": [],
   "source": [
    "import numpy as np\n",
    "from numpy import random\n"
   ]
  },
  {
   "cell_type": "markdown",
   "id": "4e2bbb86",
   "metadata": {},
   "source": [
    "## NUMPY"
   ]
  },
  {
   "cell_type": "raw",
   "id": "91b8b325",
   "metadata": {},
   "source": [
    "numpy is python library used for working with arrays.It also has function for working in domain of linear algebra,fourier \n",
    "tranform and matrices."
   ]
  },
  {
   "cell_type": "markdown",
   "id": "5daee5e7",
   "metadata": {},
   "source": [
    "Numpy stand for Numerical python."
   ]
  },
  {
   "cell_type": "markdown",
   "id": "adfa9a28",
   "metadata": {},
   "source": [
    "## why to use numpy?\n",
    "\n",
    "------------------------------------------------------------\n",
    "In python we have lists that serve the purpose of arrays,but they are slow to process.\n",
    "\n",
    "------------------------------------------------------------\n",
    "Numpy aims to provide an array object that is up to 50x faster than traditional python lists."
   ]
  },
  {
   "cell_type": "markdown",
   "id": "cc4ffdd2",
   "metadata": {},
   "source": [
    "## Why is numpy Faster than lists?\n",
    "\n",
    "------------------------------------------------------------\n",
    "Numpy arrays are stored at one continuous place in memory\n",
    "unlike lists,so processes can access and manipulate them \n",
    "very eficently."
   ]
  },
  {
   "cell_type": "markdown",
   "id": "6b2888e5",
   "metadata": {},
   "source": [
    "## Which Language is Numpy written in?\n",
    "\n",
    "------------------------------------------------------------\n",
    "Numpy is a pthon library and is written partially in Python\n",
    "but most of the parts that requkire fast coputation are \n",
    "written in C or C++."
   ]
  },
  {
   "cell_type": "code",
   "execution_count": 1,
   "id": "90c4e9fd",
   "metadata": {},
   "outputs": [],
   "source": [
    "import numpy as np"
   ]
  },
  {
   "cell_type": "markdown",
   "id": "a81e271c",
   "metadata": {},
   "source": [
    "ndarray::> they array object in numpy is call ndarray\n",
    "\n",
    "\n",
    "array()"
   ]
  },
  {
   "cell_type": "code",
   "execution_count": 2,
   "id": "733dd0fb",
   "metadata": {},
   "outputs": [
    {
     "name": "stdout",
     "output_type": "stream",
     "text": [
      "[1 2 3 4 5]\n",
      "<class 'numpy.ndarray'>\n"
     ]
    }
   ],
   "source": [
    "x = np.array([1,2,3,4,5])\n",
    "print(x)\n",
    "print(type(x))"
   ]
  },
  {
   "cell_type": "markdown",
   "id": "09400780",
   "metadata": {},
   "source": [
    "we can also pass a list,tuple or any array like object with array().and it will be converted to ndarray"
   ]
  },
  {
   "cell_type": "code",
   "execution_count": 3,
   "id": "286336ff",
   "metadata": {},
   "outputs": [
    {
     "name": "stdout",
     "output_type": "stream",
     "text": [
      "[ 1  2  3 55  4]\n",
      "<class 'numpy.ndarray'>\n"
     ]
    }
   ],
   "source": [
    "y= np.array((1,2,3,55,4))\n",
    "print(y)\n",
    "print(type(y))"
   ]
  },
  {
   "cell_type": "markdown",
   "id": "5050365f",
   "metadata": {},
   "source": [
    "Dimension in Array- a dimension in arrays is one level of array depth(nested array)\n",
    "\n",
    "----------------------------------------------------------\n",
    "O-D Arrays---> Scalars, are the elements in an array, each\n",
    "value in an array is a O-D array.\n",
    "\n",
    "----------------------------------------------------------\n",
    "1-D Arrays----> an arrays that has O-D arrays as its elements is called uni directional or 1-D\n",
    "\n",
    "----------------------------------------------------------\n",
    "2-D Array containing 2 Arrays with certain values.\n",
    "\n",
    "----------------------------------------------------------\n",
    "3-D Arrays containing 3 Arrays with certain values,\n"
   ]
  },
  {
   "cell_type": "code",
   "execution_count": 4,
   "id": "2ab6736c",
   "metadata": {},
   "outputs": [
    {
     "name": "stdout",
     "output_type": "stream",
     "text": [
      "42\n"
     ]
    }
   ],
   "source": [
    "#O-D Arrays\n",
    "x= np.array(42)\n",
    "print(x)"
   ]
  },
  {
   "cell_type": "code",
   "execution_count": 5,
   "id": "d1c239e5",
   "metadata": {},
   "outputs": [
    {
     "name": "stdout",
     "output_type": "stream",
     "text": [
      "[1 2 3 4 5]\n"
     ]
    }
   ],
   "source": [
    "#1-D Arrays\n",
    "shared= np.array([1,2,3,4,5])\n",
    "print(shared)"
   ]
  },
  {
   "cell_type": "code",
   "execution_count": 6,
   "id": "000fb1b3",
   "metadata": {},
   "outputs": [
    {
     "name": "stdout",
     "output_type": "stream",
     "text": [
      "[[1 2 3]\n",
      " [4 5 6]]\n"
     ]
    }
   ],
   "source": [
    "#2-D Array \n",
    "x = np.array([[1,2,3],[4,5,6]])\n",
    "print(x)"
   ]
  },
  {
   "cell_type": "code",
   "execution_count": 7,
   "id": "fdf01cf8",
   "metadata": {},
   "outputs": [
    {
     "name": "stdout",
     "output_type": "stream",
     "text": [
      "[[1 2 3]\n",
      " [3 4 5]\n",
      " [6 7 8]]\n"
     ]
    }
   ],
   "source": [
    "#3-D Array\n",
    "x=np.array([[1,2,3],[3,4,5],[6,7,8]])\n",
    "print(x)"
   ]
  },
  {
   "cell_type": "code",
   "execution_count": 8,
   "id": "9a5b90b3",
   "metadata": {},
   "outputs": [
    {
     "name": "stdout",
     "output_type": "stream",
     "text": [
      "a is of 0 dimension\n",
      "42\n",
      "b is of 2 dimension\n",
      "[[1 2 3 4 5 6]]\n",
      "c is of 2 dimension\n",
      "[[1 2 3]\n",
      " [4 5 6]]\n",
      "d is of 3 dimension\n",
      "[[[ 1  2  3]\n",
      "  [ 4  5  6]]\n",
      "\n",
      " [[ 7  8  9]\n",
      "  [10 11 12]]]\n"
     ]
    }
   ],
   "source": [
    "a=np.array(42)\n",
    "b=np.array([[1,2,3,4,5,6]])\n",
    "c=np.array([[1,2,3],[4,5,6]])\n",
    "d=np.array([[[1,2,3],[4,5,6]],[[7,8,9],[10,11,12]]])\n",
    "\n",
    "print(f\"a is of {a.ndim} dimension\")\n",
    "print(a)\n",
    "print(f\"b is of {b.ndim} dimension\")\n",
    "print(b)\n",
    "print(f\"c is of {c.ndim} dimension\")\n",
    "print(c)\n",
    "print(f\"d is of {d.ndim} dimension\")\n",
    "print(d)"
   ]
  },
  {
   "cell_type": "markdown",
   "id": "986672d4",
   "metadata": {},
   "source": [
    "# Numpy Indexing"
   ]
  },
  {
   "cell_type": "markdown",
   "id": "805de4ce",
   "metadata": {},
   "source": [
    "# 1-d Indexing"
   ]
  },
  {
   "cell_type": "code",
   "execution_count": 9,
   "id": "a4f5c781",
   "metadata": {},
   "outputs": [
    {
     "name": "stdout",
     "output_type": "stream",
     "text": [
      "7\n"
     ]
    }
   ],
   "source": [
    "m = np.array([1,2,3,4,5,6,7,8])\n",
    "print(m[6])"
   ]
  },
  {
   "cell_type": "code",
   "execution_count": 10,
   "id": "01f86694",
   "metadata": {},
   "outputs": [
    {
     "name": "stdout",
     "output_type": "stream",
     "text": [
      "7\n"
     ]
    }
   ],
   "source": [
    "m = np.array([1,2,3,4,5,6,7])\n",
    "print(m[2]+m[3])"
   ]
  },
  {
   "cell_type": "markdown",
   "id": "66e7e939",
   "metadata": {},
   "source": [
    "# 2-D Slicing"
   ]
  },
  {
   "cell_type": "code",
   "execution_count": 11,
   "id": "080caaa9",
   "metadata": {},
   "outputs": [
    {
     "name": "stdout",
     "output_type": "stream",
     "text": [
      "The Dimension of array is : 2\n",
      "2nd element of 1st row is : 2\n",
      "5th element of 2nd row is : 7\n"
     ]
    }
   ],
   "source": [
    "m = np.array([[1,2,3,4,5,6,7],[6,5,8,9,7,5,6]])\n",
    "print(\"The Dimension of array is :\",m.ndim)\n",
    "print('2nd element of 1st row is :',m[0,1])\n",
    "print('5th element of 2nd row is :',m[1,4])"
   ]
  },
  {
   "cell_type": "markdown",
   "id": "39b5bd3d",
   "metadata": {},
   "source": [
    "# 3-d Indexing"
   ]
  },
  {
   "cell_type": "code",
   "execution_count": 12,
   "id": "a4ab707b",
   "metadata": {},
   "outputs": [
    {
     "name": "stdout",
     "output_type": "stream",
     "text": [
      "3\n",
      "5\n"
     ]
    }
   ],
   "source": [
    "m = np.array([[[1,2,3],[3,4,5]],[[6,7,8],[9,10,11]]])\n",
    "print(m.ndim)\n",
    "print(m[0,1,2])# 1-d Indexing# 1-d Indexing"
   ]
  },
  {
   "cell_type": "markdown",
   "id": "2c130607",
   "metadata": {},
   "source": [
    "# Slicing"
   ]
  },
  {
   "cell_type": "markdown",
   "id": "ca9c1553",
   "metadata": {},
   "source": [
    "slicing mean taking elements from one given index to another \n",
    "index.\n",
    "\n",
    "------------------------------------------------------------\n",
    " [start:end]\n",
    "\n",
    " [start:end:step]\n",
    " \n",
    "------------------------------------------------------------\n",
    "In array [[for dimension to include],[index]]"
   ]
  },
  {
   "cell_type": "markdown",
   "id": "ffd90a4c",
   "metadata": {},
   "source": [
    "# 1-D"
   ]
  },
  {
   "cell_type": "code",
   "execution_count": 13,
   "id": "75b8018b",
   "metadata": {},
   "outputs": [
    {
     "name": "stdout",
     "output_type": "stream",
     "text": [
      "[2 3 4 5]\n",
      "from 4th to end index : [ 5 67  8  9]\n",
      "from the begining to 4th index : [1 2 3 4]\n",
      "from 3 to end : [ 4  5 67  8]\n"
     ]
    }
   ],
   "source": [
    "m = np.array([1,2,3,4,5,67,8,9])\n",
    "print(m[1:5])\n",
    "print(\"from 4th to end index :\",m[4:])\n",
    "print(\"from the begining to 4th index :\",m[:4])\n",
    "print(\"from 3 to end :\",m[-5:-1])"
   ]
  },
  {
   "cell_type": "markdown",
   "id": "a95185d4",
   "metadata": {},
   "source": [
    "### 1-d using step "
   ]
  },
  {
   "cell_type": "code",
   "execution_count": 14,
   "id": "f3d434fe",
   "metadata": {},
   "outputs": [
    {
     "name": "stdout",
     "output_type": "stream",
     "text": [
      "[2 4]\n",
      "[1 3 5 7 9]\n"
     ]
    }
   ],
   "source": [
    "m = np.array([1,2,3,4,5,6,7,8,9])\n",
    "print(m[1:5:2])\n",
    "print(m[::2])"
   ]
  },
  {
   "cell_type": "markdown",
   "id": "3e4d9a98",
   "metadata": {},
   "source": [
    "# 2-D slicing"
   ]
  },
  {
   "cell_type": "code",
   "execution_count": 15,
   "id": "03e0e6a2",
   "metadata": {},
   "outputs": [
    {
     "name": "stdout",
     "output_type": "stream",
     "text": [
      "Printed 7,8,9 from 2nd row : [7 8 9]\n"
     ]
    }
   ],
   "source": [
    "m = np.array([[11,12,13,14,15],[6,7,8,9,10]])\n",
    "print(\"Printed 7,8,9 from 2nd row :\",m[1,1:4])"
   ]
  },
  {
   "cell_type": "code",
   "execution_count": 16,
   "id": "40f31bd2",
   "metadata": {},
   "outputs": [
    {
     "name": "stdout",
     "output_type": "stream",
     "text": [
      "[15 10]\n"
     ]
    }
   ],
   "source": [
    "# another example tough 2-d print from both index 1:4\n",
    "# \n",
    "print(m[0:2,4])"
   ]
  },
  {
   "cell_type": "markdown",
   "id": "2817a035",
   "metadata": {},
   "source": [
    "# data type in numpy"
   ]
  },
  {
   "cell_type": "markdown",
   "id": "b7a7479d",
   "metadata": {},
   "source": [
    "i for integer\n",
    "b for boolen \n",
    "u fro unsigned integer \n",
    "f for float \n",
    "c for complex float\n",
    "m for timedelta\n",
    "o for object\n",
    "s for string\n",
    "u for unicode string\n",
    "v for memory"
   ]
  },
  {
   "cell_type": "code",
   "execution_count": 17,
   "id": "c77448d6",
   "metadata": {},
   "outputs": [
    {
     "name": "stdout",
     "output_type": "stream",
     "text": [
      "[1 2 3 4 5 6] is 1-D array.\n",
      "m data-type is: int32\n",
      "['apple' 'banana' 'cherry'] is 1-D array.\n",
      "n data-type is: <U6\n"
     ]
    }
   ],
   "source": [
    "m=np.array([1,2,3,4,5,6])\n",
    "n=np.array(['apple','banana','cherry'])\n",
    "print(m,\"is 1-D array.\\nm data-type is:\",m.dtype)\n",
    "print(n,\"is 1-D array.\\nn data-type is:\",n.dtype)"
   ]
  },
  {
   "cell_type": "markdown",
   "id": "60df05a0",
   "metadata": {},
   "source": [
    "## if a type is given in which the element cannot be casted then numpy will raise error. what if a value cannot be converted?"
   ]
  },
  {
   "cell_type": "code",
   "execution_count": 18,
   "id": "f8954ec4",
   "metadata": {},
   "outputs": [
    {
     "ename": "ValueError",
     "evalue": "invalid literal for int() with base 10: 'a'",
     "output_type": "error",
     "traceback": [
      "\u001b[1;31m---------------------------------------------------------------------------\u001b[0m",
      "\u001b[1;31mValueError\u001b[0m                                Traceback (most recent call last)",
      "Cell \u001b[1;32mIn[18], line 1\u001b[0m\n\u001b[1;32m----> 1\u001b[0m n\u001b[38;5;241m=\u001b[39m\u001b[43mnp\u001b[49m\u001b[38;5;241;43m.\u001b[39;49m\u001b[43marray\u001b[49m\u001b[43m(\u001b[49m\u001b[43m[\u001b[49m\u001b[38;5;124;43m'\u001b[39;49m\u001b[38;5;124;43ma\u001b[39;49m\u001b[38;5;124;43m'\u001b[39;49m\u001b[43m,\u001b[49m\u001b[38;5;124;43m'\u001b[39;49m\u001b[38;5;124;43m2\u001b[39;49m\u001b[38;5;124;43m'\u001b[39;49m\u001b[43m,\u001b[49m\u001b[38;5;124;43m'\u001b[39;49m\u001b[38;5;124;43m3\u001b[39;49m\u001b[38;5;124;43m'\u001b[39;49m\u001b[43m]\u001b[49m\u001b[43m,\u001b[49m\u001b[43mdtype\u001b[49m\u001b[38;5;241;43m=\u001b[39;49m\u001b[38;5;124;43m'\u001b[39;49m\u001b[38;5;124;43mi\u001b[39;49m\u001b[38;5;124;43m'\u001b[39;49m\u001b[43m)\u001b[49m\n\u001b[0;32m      2\u001b[0m \u001b[38;5;28mprint\u001b[39m(n\u001b[38;5;241m.\u001b[39mdtype)\n",
      "\u001b[1;31mValueError\u001b[0m: invalid literal for int() with base 10: 'a'"
     ]
    }
   ],
   "source": [
    "n=np.array(['a','2','3'],dtype='i')\n",
    "print(n.dtype)"
   ]
  },
  {
   "cell_type": "code",
   "execution_count": null,
   "id": "cdc25e14",
   "metadata": {},
   "outputs": [],
   "source": [
    "# Converting data type from integer to boolean\n",
    "o = np.array([1.1,2.1,3.1])\n",
    "o1=o.astype('i')\n",
    "print(o1)\n",
    "print(o1.dtype)"
   ]
  },
  {
   "cell_type": "markdown",
   "id": "90dbb490",
   "metadata": {},
   "source": [
    "# Shape of Array "
   ]
  },
  {
   "cell_type": "markdown",
   "id": "b47cd3fc",
   "metadata": {},
   "source": [
    "The shape of an array is the number of element in each\n",
    "dimensions.\n",
    "\n",
    "------------------------------------------------------------\n",
    "now we will try to get the shape of any array."
   ]
  },
  {
   "cell_type": "code",
   "execution_count": null,
   "id": "c614e37c",
   "metadata": {},
   "outputs": [],
   "source": [
    "x=np.array([[1,2,3,4],[5,6,7,8]])\n",
    "print(x.shape,\",x array has 2 dimensions \\n And it has 4 elements.\")"
   ]
  },
  {
   "cell_type": "code",
   "execution_count": 19,
   "id": "fa9443ab",
   "metadata": {},
   "outputs": [
    {
     "name": "stdout",
     "output_type": "stream",
     "text": [
      "[[[[[1 2 3 4]]]]] \n",
      " This array has 5 dimension \n",
      " (1, 1, 1, 1, 4) \n",
      " 1,1,1,1 4-times means 1 element in each 4 square bracket \n",
      " and 4 element in 5th bracket. \n"
     ]
    }
   ],
   "source": [
    "x = np.array([1,2,3,4], ndmin=5)\n",
    "print(x,\"\\n This array has 5 dimension \\n\",x.shape,\"\\n 1,1,1,1 4-times means 1 element in each 4 square bracket \\n and 4 element in 5th bracket. \")"
   ]
  },
  {
   "cell_type": "markdown",
   "id": "48aa7022",
   "metadata": {},
   "source": [
    "#            Reshaping of Array"
   ]
  },
  {
   "cell_type": "markdown",
   "id": "a122121e",
   "metadata": {},
   "source": [
    "### Reshaping 1-d to 2-d"
   ]
  },
  {
   "cell_type": "code",
   "execution_count": 20,
   "id": "6c78e4f9",
   "metadata": {},
   "outputs": [
    {
     "name": "stdout",
     "output_type": "stream",
     "text": [
      "[[ 1  2  3]\n",
      " [ 4  5  6]\n",
      " [ 7  8  9]\n",
      " [10 11 12]]\n"
     ]
    }
   ],
   "source": [
    "x = np.array([1,2,3,4,5,6,7,8,9,10,11,12])\n",
    "x1=x.reshape(4,3)\n",
    "print(x1)"
   ]
  },
  {
   "cell_type": "markdown",
   "id": "6a9873c5",
   "metadata": {},
   "source": [
    "### Reshaping 1-d To 3-d"
   ]
  },
  {
   "cell_type": "code",
   "execution_count": 21,
   "id": "c01ae2f4",
   "metadata": {},
   "outputs": [
    {
     "name": "stdout",
     "output_type": "stream",
     "text": [
      "[[ 1  2  3]\n",
      " [ 4  5  6]\n",
      " [ 7  8  9]\n",
      " [10 11 12]]\n"
     ]
    }
   ],
   "source": [
    "x = np.array([1,2,3,4,5,6,7,8,9,10,11,12])\n",
    "x1=x.reshape(4,3)\n",
    "print(x1)"
   ]
  },
  {
   "cell_type": "code",
   "execution_count": 22,
   "id": "88697d79",
   "metadata": {},
   "outputs": [
    {
     "name": "stdout",
     "output_type": "stream",
     "text": [
      "[[[1 2]\n",
      "  [3 4]]\n",
      "\n",
      " [[5 6]\n",
      "  [7 8]]]\n",
      "[1 2 3 4 5 6 7 8]\n"
     ]
    }
   ],
   "source": [
    "x = np.array([1,2,3,4,5,6,7,8])\n",
    "x1 = x.reshape(2,2,-1)\n",
    "print(x1)\n",
    "print(x1.base)"
   ]
  },
  {
   "cell_type": "code",
   "execution_count": 23,
   "id": "4751cc7c",
   "metadata": {},
   "outputs": [
    {
     "data": {
      "text/plain": [
       "array([[[1, 2],\n",
       "        [3, 4]],\n",
       "\n",
       "       [[5, 6],\n",
       "        [7, 8]]])"
      ]
     },
     "execution_count": 23,
     "metadata": {},
     "output_type": "execute_result"
    }
   ],
   "source": [
    "x =np.array([1,2,3,4,5,6,7,8])\n",
    "x1= x.reshape(2,2,-1)\n",
    "x1\n"
   ]
  },
  {
   "cell_type": "markdown",
   "id": "998bef41",
   "metadata": {},
   "source": [
    "# Iteration Array"
   ]
  },
  {
   "cell_type": "markdown",
   "id": "ded13d12",
   "metadata": {},
   "source": [
    "## Iteration Array\n",
    "\n",
    "------------------------------------------------------------\n",
    "It means going through the elements one by one or step by step.\n",
    "\n",
    "------------------------------------------------------------\n",
    "Like For loop"
   ]
  },
  {
   "cell_type": "markdown",
   "id": "c3e5b107",
   "metadata": {},
   "source": [
    "---------------------------------------------------------\n",
    "## Iteration in 1-D"
   ]
  },
  {
   "cell_type": "code",
   "execution_count": 24,
   "id": "439c7064",
   "metadata": {},
   "outputs": [
    {
     "name": "stdout",
     "output_type": "stream",
     "text": [
      "1\n",
      "2\n",
      "3\n"
     ]
    }
   ],
   "source": [
    "x = np.array([1,2,3])\n",
    "for i in x:\n",
    "    print(i)\n",
    "    "
   ]
  },
  {
   "cell_type": "markdown",
   "id": "784d5413",
   "metadata": {},
   "source": [
    "---------------------------------------------------------\n",
    "## Iteration in 2-D"
   ]
  },
  {
   "cell_type": "code",
   "execution_count": 25,
   "id": "683b48bc",
   "metadata": {},
   "outputs": [
    {
     "name": "stdout",
     "output_type": "stream",
     "text": [
      "[1 2 3]\n",
      "[4 5 6]\n"
     ]
    }
   ],
   "source": [
    "\n",
    "\n",
    "\n",
    "x = np.array([[1,2,3],[4,5,6]])\n",
    "for i in x:\n",
    "    print(i)"
   ]
  },
  {
   "cell_type": "markdown",
   "id": "808b8101",
   "metadata": {},
   "source": [
    "### Iteration on each Sclar element of the 2-D"
   ]
  },
  {
   "cell_type": "code",
   "execution_count": 26,
   "id": "a24eb389",
   "metadata": {},
   "outputs": [
    {
     "name": "stdout",
     "output_type": "stream",
     "text": [
      "1\n",
      "2\n",
      "3\n",
      "4\n",
      "5\n",
      "6\n"
     ]
    }
   ],
   "source": [
    "x = np.array([[1,2,3],[4,5,6]])\n",
    "for i in x:\n",
    "    for j in i :\n",
    "        print(j)\n",
    "    "
   ]
  },
  {
   "cell_type": "markdown",
   "id": "5d836c8e",
   "metadata": {},
   "source": [
    "# Iteration in 3-D"
   ]
  },
  {
   "cell_type": "code",
   "execution_count": 27,
   "id": "99650eef",
   "metadata": {},
   "outputs": [],
   "source": [
    "x = np.array([[[1,2,3],[4,5,6]],[[7,8,9],[10,11,12]]])"
   ]
  },
  {
   "cell_type": "code",
   "execution_count": 28,
   "id": "cfa7aca6",
   "metadata": {},
   "outputs": [
    {
     "name": "stdout",
     "output_type": "stream",
     "text": [
      "Iteration of above array is :\n",
      "1\n",
      "2\n",
      "3\n",
      "4\n",
      "5\n",
      "6\n",
      "7\n",
      "8\n",
      "9\n",
      "10\n",
      "11\n",
      "12\n",
      "Dimension of array is : 3\n"
     ]
    }
   ],
   "source": [
    "print(\"Iteration of above array is :\")\n",
    "for i in x:\n",
    "    for j in i:\n",
    "        for k in j:\n",
    "            print(k)\n",
    "print(\"Dimension of array is :\",x.ndim)"
   ]
  },
  {
   "cell_type": "markdown",
   "id": "da22dd16",
   "metadata": {},
   "source": [
    "## Iteration arrays using the nditer() Function\n",
    "### Now we will Iterate on each Scalar element."
   ]
  },
  {
   "cell_type": "code",
   "execution_count": 29,
   "id": "07dffb25",
   "metadata": {},
   "outputs": [
    {
     "name": "stdout",
     "output_type": "stream",
     "text": [
      "1\n",
      "2\n",
      "3\n",
      "4\n",
      "5\n",
      "6\n",
      "7\n",
      "8\n"
     ]
    }
   ],
   "source": [
    "x = np.array([[[1,2],[3,4],[5,6],[7,8]]])\n",
    "for j in np.nditer(x):\n",
    "    print(j)"
   ]
  },
  {
   "cell_type": "markdown",
   "id": "ffa82f3f",
   "metadata": {},
   "source": [
    "## Iteration arrays with different steps"
   ]
  },
  {
   "cell_type": "code",
   "execution_count": 30,
   "id": "5948861e",
   "metadata": {},
   "outputs": [
    {
     "name": "stdout",
     "output_type": "stream",
     "text": [
      "1\n",
      "9\n",
      "3\n",
      "10\n",
      "5\n",
      "11\n",
      "7\n",
      "12\n"
     ]
    }
   ],
   "source": [
    "x = np.array([[[1,2,9],[3,4,10],[5,6,11],[7,8,12]]])\n",
    "for j in np.nditer(x[:, ::, ::2]):\n",
    "    print(j)"
   ]
  },
  {
   "cell_type": "markdown",
   "id": "fa0355f8",
   "metadata": {},
   "source": [
    "# Joining"
   ]
  },
  {
   "cell_type": "markdown",
   "id": "10fbae9d",
   "metadata": {},
   "source": [
    "Joining the Numpy Array-- Here, for this we will pass concatenate()"
   ]
  },
  {
   "cell_type": "code",
   "execution_count": 31,
   "id": "3ac752fb",
   "metadata": {},
   "outputs": [
    {
     "name": "stdout",
     "output_type": "stream",
     "text": [
      "[1 2 3 4 5 6]\n"
     ]
    }
   ],
   "source": [
    "x= np.array([1,2,3])\n",
    "y= np.array([4,5,6])\n",
    "z=np.concatenate((x,y))\n",
    "print(z)"
   ]
  },
  {
   "cell_type": "markdown",
   "id": "f24255ce",
   "metadata": {},
   "source": [
    "Joining the 2-d arrays along with rows(axis=1)"
   ]
  },
  {
   "cell_type": "code",
   "execution_count": 32,
   "id": "2f0db040",
   "metadata": {},
   "outputs": [
    {
     "name": "stdout",
     "output_type": "stream",
     "text": [
      "[[ 1  2  3  4  5  6]\n",
      " [ 7  8  9 10 11 12]]\n"
     ]
    }
   ],
   "source": [
    "x= np.array([[1,2,3],[7,8,9]])\n",
    "y= np.array([[4,5,6],[10,11,12]])\n",
    "z=np.concatenate((x,y),axis=1)\n",
    "print(z)"
   ]
  },
  {
   "cell_type": "markdown",
   "id": "ab635fad",
   "metadata": {},
   "source": [
    "#### Joining array using the stack function:"
   ]
  },
  {
   "cell_type": "code",
   "execution_count": 33,
   "id": "db285b3e",
   "metadata": {},
   "outputs": [
    {
     "name": "stdout",
     "output_type": "stream",
     "text": [
      "[[1 4]\n",
      " [2 5]\n",
      " [3 6]]\n"
     ]
    }
   ],
   "source": [
    "x= np.array([1,2,3])\n",
    "y= np.array([4,5,6])\n",
    "z=np.stack((x,y) ,axis=1)\n",
    "print(z)"
   ]
  },
  {
   "cell_type": "markdown",
   "id": "bc6837c9",
   "metadata": {},
   "source": [
    "-----------------------------------------------------------\n",
    "Stacking along with rows: Hstack()"
   ]
  },
  {
   "cell_type": "code",
   "execution_count": 34,
   "id": "4de7d6cf",
   "metadata": {},
   "outputs": [
    {
     "name": "stdout",
     "output_type": "stream",
     "text": [
      "[1 2 3 4 5 6]\n"
     ]
    }
   ],
   "source": [
    "x= np.array([1,2,3])\n",
    "y= np.array([4,5,6])\n",
    "z=np.hstack((x,y))\n",
    "print(z)"
   ]
  },
  {
   "cell_type": "markdown",
   "id": "a08fbe8c",
   "metadata": {},
   "source": [
    "stacking along with column: vstack"
   ]
  },
  {
   "cell_type": "code",
   "execution_count": 35,
   "id": "0a6f279c",
   "metadata": {},
   "outputs": [
    {
     "name": "stdout",
     "output_type": "stream",
     "text": [
      "[[[1 4]\n",
      "  [2 5]\n",
      "  [3 6]]]\n"
     ]
    }
   ],
   "source": [
    "x= np.array([1,2,3])\n",
    "y= np.array([4,5,6])\n",
    "z=np.dstack((x,y))\n",
    "print(z)"
   ]
  },
  {
   "cell_type": "markdown",
   "id": "3208ecaf",
   "metadata": {},
   "source": [
    "Stacking along with height(depth)"
   ]
  },
  {
   "cell_type": "code",
   "execution_count": 36,
   "id": "ada143b5",
   "metadata": {},
   "outputs": [
    {
     "name": "stdout",
     "output_type": "stream",
     "text": [
      "[[[1 4]\n",
      "  [2 5]\n",
      "  [3 6]]]\n"
     ]
    }
   ],
   "source": [
    "x= np.array([1,2,3])\n",
    "y= np.array([4,5,6])\n",
    "z=np.dstack((x,y))\n",
    "print(z)"
   ]
  },
  {
   "cell_type": "markdown",
   "id": "707a977f",
   "metadata": {},
   "source": [
    "------------------------------------------------------------\n",
    "# Splitting Array"
   ]
  },
  {
   "cell_type": "markdown",
   "id": "08d88c9f",
   "metadata": {},
   "source": [
    "____________________________________________________________\n",
    "#### It is reverse to Joining breaking the arrays.\n",
    "#### Arrays_split()"
   ]
  },
  {
   "cell_type": "code",
   "execution_count": 37,
   "id": "0b57c3b8",
   "metadata": {},
   "outputs": [
    {
     "name": "stdout",
     "output_type": "stream",
     "text": [
      "[1 2]\n",
      "[3 4]\n",
      "[5 6]\n"
     ]
    }
   ],
   "source": [
    "x= np.array([1,2,3,4,5,6])\n",
    "x1=np.array_split(x,3)\n",
    "print(x1[0])\n",
    "print(x1[1])\n",
    "print(x1[2])"
   ]
  },
  {
   "cell_type": "markdown",
   "id": "dc93df01",
   "metadata": {},
   "source": [
    "------------------------------------------------------------\n",
    "### Splitting the 2-D Array\n",
    "------------------------------------------------------------\n"
   ]
  },
  {
   "cell_type": "code",
   "execution_count": 38,
   "id": "49b63d16",
   "metadata": {},
   "outputs": [
    {
     "data": {
      "text/plain": [
       "[array([[1],\n",
       "        [3],\n",
       "        [5],\n",
       "        [7],\n",
       "        [9]]),\n",
       " array([[ 2],\n",
       "        [ 4],\n",
       "        [ 6],\n",
       "        [ 8],\n",
       "        [10]]),\n",
       " array([[ 33],\n",
       "        [ 55],\n",
       "        [ 77],\n",
       "        [ 99],\n",
       "        [111]])]"
      ]
     },
     "execution_count": 38,
     "metadata": {},
     "output_type": "execute_result"
    }
   ],
   "source": [
    "\n",
    "x= np.array([[1,2,33],[3,4,55],[5,6,77],[7,8,99],[9,10,111]])\n",
    "x1=np.array_split(x,3,axis=1)\n",
    "x1"
   ]
  },
  {
   "cell_type": "code",
   "execution_count": 39,
   "id": "0cada863",
   "metadata": {},
   "outputs": [
    {
     "data": {
      "text/plain": [
       "[array([[1],\n",
       "        [3],\n",
       "        [5],\n",
       "        [7],\n",
       "        [9]]),\n",
       " array([[ 2],\n",
       "        [ 4],\n",
       "        [ 6],\n",
       "        [ 8],\n",
       "        [10]]),\n",
       " array([[ 33],\n",
       "        [ 55],\n",
       "        [ 77],\n",
       "        [ 99],\n",
       "        [111]])]"
      ]
     },
     "execution_count": 39,
     "metadata": {},
     "output_type": "execute_result"
    }
   ],
   "source": [
    "# Split the 2-D array into three 2-D arrays\n",
    "\n",
    "x= np.array([[1,2,33],[3,4,55],[5,6,77],[7,8,99],[9,10,111]])\n",
    "x1=np.hsplit(x,3)\n",
    "x1"
   ]
  },
  {
   "cell_type": "markdown",
   "id": "0c14d512",
   "metadata": {},
   "source": [
    "### Spliting the 2-D into three 2-Dalong with rows"
   ]
  },
  {
   "cell_type": "code",
   "execution_count": 40,
   "id": "29a5ae68",
   "metadata": {},
   "outputs": [
    {
     "name": "stdout",
     "output_type": "stream",
     "text": [
      "[array([[ 1],\n",
      "       [ 4],\n",
      "       [ 7],\n",
      "       [10]]), array([[ 2],\n",
      "       [ 5],\n",
      "       [ 8],\n",
      "       [11]]), array([[ 3],\n",
      "       [ 6],\n",
      "       [ 9],\n",
      "       [12]])]\n"
     ]
    }
   ],
   "source": [
    "x = np.array([[1,2,3],[4,5,6],[7,8,9],[10,11,12]])\n",
    "x1 = np.array_split(x,3,axis=1)\n",
    "print(x1)\n"
   ]
  },
  {
   "cell_type": "markdown",
   "id": "7f357dbf",
   "metadata": {},
   "source": [
    "#### Alternate solution is using the hsplit(), opposite hstack()"
   ]
  },
  {
   "cell_type": "code",
   "execution_count": 41,
   "id": "cc49af33",
   "metadata": {},
   "outputs": [
    {
     "data": {
      "text/plain": [
       "[array([[1],\n",
       "        [3],\n",
       "        [5],\n",
       "        [7],\n",
       "        [9]]),\n",
       " array([[ 2],\n",
       "        [ 4],\n",
       "        [ 6],\n",
       "        [ 8],\n",
       "        [10]]),\n",
       " array([[ 33],\n",
       "        [ 55],\n",
       "        [ 77],\n",
       "        [ 99],\n",
       "        [111]])]"
      ]
     },
     "execution_count": 41,
     "metadata": {},
     "output_type": "execute_result"
    }
   ],
   "source": [
    "x= np.array([[1,2,33],[3,4,55],[5,6,77],[7,8,99],[9,10,111]])\n",
    "x1=np.hsplit(x,3)\n",
    "x1"
   ]
  },
  {
   "cell_type": "markdown",
   "id": "4da8cef6",
   "metadata": {},
   "source": [
    "# Searching Array"
   ]
  },
  {
   "cell_type": "code",
   "execution_count": null,
   "id": "b2a389d9",
   "metadata": {},
   "outputs": [],
   "source": []
  },
  {
   "cell_type": "code",
   "execution_count": 42,
   "id": "52fcd9ab",
   "metadata": {},
   "outputs": [
    {
     "name": "stdout",
     "output_type": "stream",
     "text": [
      "(array([8], dtype=int64),)\n"
     ]
    }
   ],
   "source": [
    "import numpy as np\n",
    "x = np.array([6,7,2,1,5,8,3,10,4,9,])\n",
    "x1 = np.where(x==4)\n",
    "print(x1)"
   ]
  },
  {
   "cell_type": "code",
   "execution_count": 43,
   "id": "a7bb39b8",
   "metadata": {},
   "outputs": [
    {
     "name": "stdout",
     "output_type": "stream",
     "text": [
      "it is index of number divided 2 ,remainder is 0:\n",
      " (array([ 0,  2,  5,  7,  8, 10, 11, 12], dtype=int64),)\n"
     ]
    }
   ],
   "source": [
    "x = np.array([6,7,2,1,5,8,3,10,4,9,10,12,14,13,16.2])\n",
    "x1 = np.where(x%2==0)\n",
    "print(\"it is index of number divided 2 ,remainder is 0:\\n\",x1)"
   ]
  },
  {
   "cell_type": "markdown",
   "id": "62597ccd",
   "metadata": {},
   "source": [
    "------------------------------------------------------------\n",
    "## Searchsorted()\n",
    "------------------------------------------------------------\n",
    "#### Perform binary search in array.\n",
    "#### We will now find the index where the value 7 should be interted."
   ]
  },
  {
   "cell_type": "code",
   "execution_count": 44,
   "id": "8ab45c02",
   "metadata": {},
   "outputs": [
    {
     "name": "stdout",
     "output_type": "stream",
     "text": [
      "2\n"
     ]
    }
   ],
   "source": [
    "import numpy as np\n",
    "x = np.array([3,4,7,5,6])\n",
    "x1 = np.searchsorted(x,7)\n",
    "print(x1)"
   ]
  },
  {
   "cell_type": "code",
   "execution_count": 45,
   "id": "aebbb07c",
   "metadata": {},
   "outputs": [
    {
     "name": "stdout",
     "output_type": "stream",
     "text": [
      "7\n"
     ]
    }
   ],
   "source": [
    "# now we will search from right side\n",
    "import numpy as np\n",
    "x = np.array([2,3,7,8,9,11,3])\n",
    "x1 = np.searchsorted(x, 11, side='right')\n",
    "print(x1)"
   ]
  },
  {
   "cell_type": "code",
   "execution_count": 46,
   "id": "032ead27",
   "metadata": {},
   "outputs": [
    {
     "name": "stdout",
     "output_type": "stream",
     "text": [
      "[0 2 2]\n"
     ]
    }
   ],
   "source": [
    "import numpy as np\n",
    "x = np.array([2,3,7,8,9,11,3])\n",
    "x1 = np.searchsorted(x, [2,4,5])\n",
    "print(x1)"
   ]
  },
  {
   "cell_type": "code",
   "execution_count": null,
   "id": "94d76d0f",
   "metadata": {},
   "outputs": [],
   "source": [
    "\n"
   ]
  },
  {
   "cell_type": "code",
   "execution_count": null,
   "id": "a199febc",
   "metadata": {},
   "outputs": [],
   "source": []
  },
  {
   "cell_type": "markdown",
   "id": "f388d4c0",
   "metadata": {},
   "source": [
    "# Random Number"
   ]
  },
  {
   "cell_type": "markdown",
   "id": "2e7a7e50",
   "metadata": {},
   "source": [
    "------------------------------------------------------------\n",
    "##### Random meaning: Something that cannot be predicted logically.\n",
    "\n",
    "------------------------------------------------------------\n",
    "##### Now we will generate a random number from 0 to 100\n",
    "\n",
    "------------------------------------------------------------"
   ]
  },
  {
   "cell_type": "code",
   "execution_count": 47,
   "id": "a785916c",
   "metadata": {},
   "outputs": [],
   "source": [
    "from numpy import random"
   ]
  },
  {
   "cell_type": "code",
   "execution_count": 48,
   "id": "c6fcc0ec",
   "metadata": {},
   "outputs": [
    {
     "name": "stdout",
     "output_type": "stream",
     "text": [
      "97\n"
     ]
    }
   ],
   "source": [
    "x = random.randint(100)\n",
    "print(x)"
   ]
  },
  {
   "cell_type": "code",
   "execution_count": 49,
   "id": "de1812ca",
   "metadata": {},
   "outputs": [
    {
     "name": "stdout",
     "output_type": "stream",
     "text": [
      "0.7851436143872137\n"
     ]
    }
   ],
   "source": [
    "x = random.rand()\n",
    "print(x)"
   ]
  },
  {
   "cell_type": "code",
   "execution_count": null,
   "id": "475516a9",
   "metadata": {},
   "outputs": [],
   "source": []
  },
  {
   "cell_type": "code",
   "execution_count": 50,
   "id": "596d62e1",
   "metadata": {},
   "outputs": [
    {
     "name": "stdout",
     "output_type": "stream",
     "text": [
      "[84 73 34 13 84]\n"
     ]
    }
   ],
   "source": [
    "x = random.randint(100, size=(5))\n",
    "print(x)"
   ]
  },
  {
   "cell_type": "markdown",
   "id": "d810562d",
   "metadata": {},
   "source": [
    "------------------------------------------------------------\n",
    "#### We will generate a 2-D array with 3 rows, each row containing 5 random int from 0 to 100:"
   ]
  },
  {
   "cell_type": "code",
   "execution_count": 51,
   "id": "59352d8a",
   "metadata": {},
   "outputs": [
    {
     "name": "stdout",
     "output_type": "stream",
     "text": [
      "[[57 87  9 64 45]\n",
      " [74 75 48 63 91]\n",
      " [30 76 55 62 89]]\n"
     ]
    }
   ],
   "source": [
    "x = random.randint(100, size=(3,5))\n",
    "print(x)"
   ]
  },
  {
   "cell_type": "markdown",
   "id": "93ef2d3e",
   "metadata": {},
   "source": [
    "#### for float\n",
    "\n",
    "------------------------------------------------------------\n",
    "#### 1-D"
   ]
  },
  {
   "cell_type": "code",
   "execution_count": 52,
   "id": "7a2a2b72",
   "metadata": {},
   "outputs": [
    {
     "name": "stdout",
     "output_type": "stream",
     "text": [
      "[0.09420711 0.83915878 0.52582566 0.48684197 0.01212004]\n"
     ]
    }
   ],
   "source": [
    "x = random.rand(5)\n",
    "print(x)"
   ]
  },
  {
   "cell_type": "markdown",
   "id": "90e5d48d",
   "metadata": {},
   "source": [
    "#### 2-D"
   ]
  },
  {
   "cell_type": "code",
   "execution_count": 58,
   "id": "48285496",
   "metadata": {},
   "outputs": [
    {
     "name": "stdout",
     "output_type": "stream",
     "text": [
      "[[0.6396446  0.93510856 0.26732738 0.66320329 0.20028497]\n",
      " [0.58522139 0.00610819 0.70003312 0.18830335 0.75498065]\n",
      " [0.42836772 0.66706376 0.6728317  0.01083937 0.46244625]]\n"
     ]
    }
   ],
   "source": [
    "x = random.rand(3,5)\n",
    "print(x)"
   ]
  },
  {
   "cell_type": "markdown",
   "id": "b56d3b61",
   "metadata": {},
   "source": [
    "#### You can also generate random number from an 2-d array \n",
    "## Choice()"
   ]
  },
  {
   "cell_type": "code",
   "execution_count": 59,
   "id": "92af9499",
   "metadata": {},
   "outputs": [
    {
     "name": "stdout",
     "output_type": "stream",
     "text": [
      "[[[3 5 5 6 9 3 8 1 5 4]\n",
      "  [8 1 4 7 6 3 1 9 4 7]\n",
      "  [6 7 5 5 3 3 7 8 4 1]\n",
      "  [1 9 5 7 5 3 8 4 5 1]\n",
      "  [9 7 1 1 6 4 6 1 3 5]]\n",
      "\n",
      " [[6 1 5 8 6 7 9 7 5 5]\n",
      "  [3 3 9 3 8 6 6 7 8 3]\n",
      "  [5 4 3 9 5 4 5 4 6 3]\n",
      "  [8 8 7 3 1 3 1 5 3 5]\n",
      "  [1 8 3 8 3 1 9 7 5 6]]\n",
      "\n",
      " [[6 9 5 6 3 8 9 7 3 8]\n",
      "  [5 4 4 5 7 4 1 3 5 4]\n",
      "  [5 1 5 7 1 5 8 5 8 5]\n",
      "  [1 8 3 3 9 5 5 8 1 8]\n",
      "  [8 9 3 9 1 9 3 6 4 4]]]\n"
     ]
    }
   ],
   "source": [
    "x = random.choice([3,5,6,7,8,9,1,4,5] , size=(3,5,10))\n",
    "print(x)"
   ]
  },
  {
   "cell_type": "markdown",
   "id": "a471b2f6",
   "metadata": {},
   "source": [
    "# Arithmetic Operators: +, -, /, *\n",
    "\n",
    "------------------------------------------------------------\n",
    "###### By using ufunc additional argument like where, dtype and out\n",
    "###### Here now we will use add()"
   ]
  },
  {
   "cell_type": "code",
   "execution_count": 73,
   "id": "9da8660f",
   "metadata": {},
   "outputs": [
    {
     "name": "stdout",
     "output_type": "stream",
     "text": [
      "[ 40  60  36  90 150]\n"
     ]
    }
   ],
   "source": [
    "x=np.array([10,20,13,25,65])\n",
    "y=np.array([30,40,23,65,85])\n",
    "xy= np.add(x,y)\n",
    "print(xy)"
   ]
  },
  {
   "cell_type": "code",
   "execution_count": 74,
   "id": "35224712",
   "metadata": {},
   "outputs": [
    {
     "name": "stdout",
     "output_type": "stream",
     "text": [
      "[20 20 10 40 20]\n"
     ]
    }
   ],
   "source": [
    "x=np.array([10,20,13,25,65])\n",
    "y=np.array([30,40,23,65,85])\n",
    "xy= np.subtract(y,x)\n",
    "print(xy)"
   ]
  },
  {
   "cell_type": "code",
   "execution_count": 76,
   "id": "3558a9b2",
   "metadata": {},
   "outputs": [
    {
     "name": "stdout",
     "output_type": "stream",
     "text": [
      "[ 300  800  299 1625 5525]\n"
     ]
    }
   ],
   "source": [
    "x=np.array([10,20,13,25,65])\n",
    "y=np.array([30,40,23,65,85])\n",
    "xy= np.multiply(x,y)\n",
    "print(xy)"
   ]
  },
  {
   "cell_type": "code",
   "execution_count": 78,
   "id": "75702d80",
   "metadata": {},
   "outputs": [
    {
     "name": "stdout",
     "output_type": "stream",
     "text": [
      "[3.         2.         1.76923077 2.6        1.30769231]\n"
     ]
    }
   ],
   "source": [
    "x=np.array([10,20,13,25,65])\n",
    "y=np.array([30,40,23,65,85])\n",
    "xy= np.divide(y,x)\n",
    "print(xy)"
   ]
  },
  {
   "cell_type": "code",
   "execution_count": 80,
   "id": "7b8f9aa5",
   "metadata": {},
   "outputs": [
    {
     "name": "stdout",
     "output_type": "stream",
     "text": [
      "[      100      8000    371293 244140625  17850625]\n"
     ]
    }
   ],
   "source": [
    "x=np.array([10,20,13,25,65])\n",
    "y=np.array([2,3,5,6,4])\n",
    "xy= np.power(x,y)\n",
    "print(xy)"
   ]
  },
  {
   "cell_type": "code",
   "execution_count": 82,
   "id": "4fa7324e",
   "metadata": {},
   "outputs": [
    {
     "name": "stdout",
     "output_type": "stream",
     "text": [
      "[0 2 3 1 1]\n"
     ]
    }
   ],
   "source": [
    "x=np.array([10,20,13,25,65])\n",
    "y=np.array([2,3,5,6,4])\n",
    "xy= np.mod(x,y)\n",
    "print(xy)"
   ]
  },
  {
   "cell_type": "code",
   "execution_count": 83,
   "id": "e44b6559",
   "metadata": {},
   "outputs": [
    {
     "name": "stdout",
     "output_type": "stream",
     "text": [
      "[0 2 3 1 1]\n"
     ]
    }
   ],
   "source": [
    "x=np.array([10,20,13,25,65])\n",
    "y=np.array([2,3,5,6,4])\n",
    "xy= np.remainder(x,y)\n",
    "print(xy)"
   ]
  },
  {
   "cell_type": "code",
   "execution_count": 85,
   "id": "b4874674",
   "metadata": {},
   "outputs": [
    {
     "name": "stdout",
     "output_type": "stream",
     "text": [
      "(array([ 5,  6,  2,  4, 16]), array([0, 2, 3, 1, 1]))\n"
     ]
    }
   ],
   "source": [
    "x=np.array([10,20,13,25,65])\n",
    "y=np.array([2,3,5,6,4])\n",
    "xy= np.divmod(x,y)\n",
    "print(xy)"
   ]
  },
  {
   "cell_type": "code",
   "execution_count": 89,
   "id": "08ac4257",
   "metadata": {},
   "outputs": [
    {
     "name": "stdout",
     "output_type": "stream",
     "text": [
      "[10 20 13 25 65]\n"
     ]
    }
   ],
   "source": [
    "x=np.array([-10,-20,-13,-25,-65])\n",
    "xy= np.abs(x)\n",
    "print(xy)"
   ]
  },
  {
   "cell_type": "code",
   "execution_count": null,
   "id": "faf0d913",
   "metadata": {},
   "outputs": [],
   "source": []
  },
  {
   "cell_type": "code",
   "execution_count": null,
   "id": "704c5a8b",
   "metadata": {},
   "outputs": [],
   "source": []
  },
  {
   "cell_type": "markdown",
   "id": "bd8955d9",
   "metadata": {},
   "source": [
    "------------------------------------------------------------\n",
    "# Data distribution\n",
    "\n",
    "------------------------------------------------------------"
   ]
  },
  {
   "cell_type": "markdown",
   "id": "a2ce742a",
   "metadata": {},
   "source": [
    "#### Data Distribution is a list of all possible value and how often each value occur.\n",
    "\n",
    "------------------------------------------------------------\n",
    "#### Such lists are important when working with statistics and data science.\n",
    "\n",
    "------------------------------------------------------------\n",
    "##### Random Distribution : probability function \n",
    "\n",
    "------------------------------------------------------------\n",
    "##### now we will generate 1-d with 100 values where each value has to be 3,4,5,7,9\n",
    "\n",
    "###### the probability for the value 3 is set to be 0.1\n",
    "###### the probability for the value 4  is set to be 0.3\n",
    "###### the probability for the value 5 is set to be 0.3\n",
    "###### the probability for the value 7 is set to be 0.1\n",
    "###### the probability for the value 9 is set to be 0.2\n",
    "###### The Sum of all probability number should be \"1\""
   ]
  },
  {
   "cell_type": "code",
   "execution_count": 60,
   "id": "0051dcb0",
   "metadata": {},
   "outputs": [
    {
     "data": {
      "text/plain": [
       "array([4, 3, 3, 4, 5, 4, 3, 3, 5, 4, 4, 5, 5, 4, 7, 9, 5, 4, 7, 9, 5, 9,\n",
       "       9, 4, 4, 5, 3, 5, 4, 4, 3, 5, 4, 5, 9, 9, 4, 3, 5, 5, 9, 5, 9, 9,\n",
       "       4, 5, 5, 4, 4, 4])"
      ]
     },
     "execution_count": 60,
     "metadata": {},
     "output_type": "execute_result"
    }
   ],
   "source": [
    "x = random.choice([3,4,5,7,9],p=[0.1,0.3,0.3,0.1,0.2],size=(50))\n",
    "x"
   ]
  },
  {
   "cell_type": "markdown",
   "id": "e7e8ea73",
   "metadata": {},
   "source": [
    "### Now we will return 2-D with 3 rows each containing 5 values:"
   ]
  },
  {
   "cell_type": "code",
   "execution_count": 61,
   "id": "d2918eae",
   "metadata": {},
   "outputs": [
    {
     "name": "stdout",
     "output_type": "stream",
     "text": [
      "[[7 7 7 7 3]\n",
      " [7 5 7 7 5]\n",
      " [5 7 7 5 5]]\n"
     ]
    }
   ],
   "source": [
    "x = random.choice([3,5,7,9],p=[0.1,0.3,0.6,0.0],size=(3,5))\n",
    "print(x)"
   ]
  },
  {
   "cell_type": "markdown",
   "id": "25dac412",
   "metadata": {},
   "source": [
    "# Permutation"
   ]
  },
  {
   "cell_type": "markdown",
   "id": "8fbb4ffc",
   "metadata": {},
   "source": [
    "###### Permutation refers to an arrangement of elements like [3,2,1] is permutation of [1,2,3] and vice versa.\n",
    "###### The numpy random module provide 2 methods: shuffle() and permutation()."
   ]
  },
  {
   "cell_type": "code",
   "execution_count": 62,
   "id": "75193b9c",
   "metadata": {},
   "outputs": [
    {
     "name": "stdout",
     "output_type": "stream",
     "text": [
      "[6 4 2 1 5 3]\n"
     ]
    }
   ],
   "source": [
    "# shuffle() method make changes to the original array\n",
    "# Now we will randomly suffle elements for the below array:\n",
    "from numpy import random\n",
    "import numpy as np\n",
    "x = np.array([1,2,3,4,5,6])\n",
    "random.shuffle(x)\n",
    "print(x)"
   ]
  },
  {
   "cell_type": "markdown",
   "id": "1f13416c",
   "metadata": {},
   "source": [
    "#### Now we will generate a permutation of elements for the below array:\n",
    "#### The permutation() method leaves the original array unchanged."
   ]
  },
  {
   "cell_type": "code",
   "execution_count": 63,
   "id": "747a7627",
   "metadata": {},
   "outputs": [
    {
     "name": "stdout",
     "output_type": "stream",
     "text": [
      "[1 6 5 2 3 4]\n"
     ]
    }
   ],
   "source": [
    "x = np.array([1,2,3,4,5,6])\n",
    "y=random.permutation(x)\n",
    "print(y)"
   ]
  },
  {
   "cell_type": "markdown",
   "id": "4357597e",
   "metadata": {},
   "source": [
    "# Seaborn"
   ]
  },
  {
   "cell_type": "markdown",
   "id": "47c5b5a9",
   "metadata": {},
   "source": [
    "------------------------------------------------------------\n",
    "#### Matplotlib(pyplot) -seaborn\n",
    "\n",
    "------------------------------------------------------------\n",
    "#### Seaborn is a library that uses matplotlib underneath to plot graph i.e pyplot\n",
    "\n",
    "------------------------------------------------------------\n",
    "#### Distplot Distribution plot(Curve plot - histogram)"
   ]
  },
  {
   "cell_type": "code",
   "execution_count": 64,
   "id": "f6a24f34",
   "metadata": {},
   "outputs": [
    {
     "name": "stderr",
     "output_type": "stream",
     "text": [
      "C:\\Users\\musun\\AppData\\Local\\Temp\\ipykernel_7748\\1060237858.py:3: UserWarning: \n",
      "\n",
      "`distplot` is a deprecated function and will be removed in seaborn v0.14.0.\n",
      "\n",
      "Please adapt your code to use either `displot` (a figure-level function with\n",
      "similar flexibility) or `histplot` (an axes-level function for histograms).\n",
      "\n",
      "For a guide to updating your code to use the new functions, please see\n",
      "https://gist.github.com/mwaskom/de44147ed2974457ad6372750bbe5751\n",
      "\n",
      "  sns.distplot([1,1,2,3,4])\n"
     ]
    },
    {
     "data": {
      "image/png": "[encoded data removed]",
      "text/plain": [
       "<Figure size 640x480 with 1 Axes>"
      ]
     },
     "metadata": {},
     "output_type": "display_data"
    }
   ],
   "source": [
    "import matplotlib.pyplot as plt\n",
    "import seaborn as sns\n",
    "sns.distplot([1,1,2,3,4])\n",
    "plt.show()"
   ]
  },
  {
   "cell_type": "markdown",
   "id": "db68b043",
   "metadata": {},
   "source": [
    "##### Plotting a distplot without the histrogram"
   ]
  },
  {
   "cell_type": "code",
   "execution_count": 65,
   "id": "656ea816",
   "metadata": {},
   "outputs": [
    {
     "name": "stderr",
     "output_type": "stream",
     "text": [
      "C:\\Users\\musun\\AppData\\Local\\Temp\\ipykernel_7748\\988302986.py:3: UserWarning: \n",
      "\n",
      "`distplot` is a deprecated function and will be removed in seaborn v0.14.0.\n",
      "\n",
      "Please adapt your code to use either `displot` (a figure-level function with\n",
      "similar flexibility) or `kdeplot` (an axes-level function for kernel density plots).\n",
      "\n",
      "For a guide to updating your code to use the new functions, please see\n",
      "https://gist.github.com/mwaskom/de44147ed2974457ad6372750bbe5751\n",
      "\n",
      "  sns.distplot([0,1,2,3,4,5], hist= False)\n"
     ]
    },
    {
     "data": {
      "image/png": "[encoded data removed]",
      "text/plain": [
       "<Figure size 640x480 with 1 Axes>"
      ]
     },
     "metadata": {},
     "output_type": "display_data"
    }
   ],
   "source": [
    "import matplotlib.pyplot as plt\n",
    "import seaborn as sns\n",
    "sns.distplot([0,1,2,3,4,5], hist= False)\n",
    "plt.show()"
   ]
  },
  {
   "cell_type": "markdown",
   "id": "51b77c07",
   "metadata": {},
   "source": [
    "# Normal Distribution (Gaussian)"
   ]
  },
  {
   "cell_type": "markdown",
   "id": "9b77f100",
   "metadata": {},
   "source": [
    "------------------------------------------------------------\n",
    "#### Normal Distribution - very important\n",
    "\n",
    "------------------------------------------------------------\n",
    "#### random.normal() method- loc, scale(standard devaition), size\n",
    "\n",
    "------------------------------------------------------------\n",
    "#### We are generating a random normal distribution of size 2*3\n",
    "\n",
    "------------------------------------------------------------"
   ]
  },
  {
   "cell_type": "code",
   "execution_count": 66,
   "id": "dc9e3b5b",
   "metadata": {},
   "outputs": [
    {
     "name": "stdout",
     "output_type": "stream",
     "text": [
      "[[ 1.00400168  0.22664467 -0.71831083]\n",
      " [-0.09143207 -0.20468626 -0.93384273]]\n"
     ]
    }
   ],
   "source": [
    "from numpy import random \n",
    "x = random.normal(size=(2,3))\n",
    "print(x)"
   ]
  },
  {
   "cell_type": "markdown",
   "id": "33cf8062",
   "metadata": {},
   "source": [
    "#### Here, we will generate a random normal dist of size 2*3 with mean at 1 and standard deviation of 2: "
   ]
  },
  {
   "cell_type": "code",
   "execution_count": 67,
   "id": "4f882395",
   "metadata": {},
   "outputs": [
    {
     "name": "stdout",
     "output_type": "stream",
     "text": [
      "[[-1.65791378 -0.44202204  0.13158181]\n",
      " [-1.75816143  3.56070351  2.53262376]]\n"
     ]
    }
   ],
   "source": [
    "from numpy import random \n",
    "x = random.normal(loc=1, scale=2, size=(2,3))\n",
    "print(x)\n"
   ]
  },
  {
   "cell_type": "markdown",
   "id": "a5c5208a",
   "metadata": {},
   "source": [
    "#### Visualization of normal distribution"
   ]
  },
  {
   "cell_type": "code",
   "execution_count": 68,
   "id": "e3a76098",
   "metadata": {},
   "outputs": [
    {
     "name": "stderr",
     "output_type": "stream",
     "text": [
      "C:\\Users\\musun\\AppData\\Local\\Temp\\ipykernel_7748\\36377903.py:5: UserWarning: \n",
      "\n",
      "`distplot` is a deprecated function and will be removed in seaborn v0.14.0.\n",
      "\n",
      "Please adapt your code to use either `displot` (a figure-level function with\n",
      "similar flexibility) or `kdeplot` (an axes-level function for kernel density plots).\n",
      "\n",
      "For a guide to updating your code to use the new functions, please see\n",
      "https://gist.github.com/mwaskom/de44147ed2974457ad6372750bbe5751\n",
      "\n",
      "  sns.distplot(random.normal(size=1000), hist= False)\n"
     ]
    },
    {
     "data": {
      "image/png": "[encoded data removed]",
      "text/plain": [
       "<Figure size 640x480 with 1 Axes>"
      ]
     },
     "metadata": {},
     "output_type": "display_data"
    }
   ],
   "source": [
    "from numpy import random \n",
    "import matplotlib.pyplot as plt \n",
    "import seaborn as sns\n",
    "\n",
    "sns.distplot(random.normal(size=1000), hist= False)\n",
    "plt.show()"
   ]
  },
  {
   "cell_type": "markdown",
   "id": "b4803020",
   "metadata": {},
   "source": [
    "#### The Curve of a normal dist is also as bell curve\n",
    "\n",
    "------------------------------------------------------------"
   ]
  },
  {
   "cell_type": "code",
   "execution_count": null,
   "id": "fe9d847d",
   "metadata": {},
   "outputs": [],
   "source": []
  },
  {
   "cell_type": "markdown",
   "id": "0cade169",
   "metadata": {},
   "source": [
    "# Binominal Distribution"
   ]
  },
  {
   "cell_type": "markdown",
   "id": "056f0eae",
   "metadata": {},
   "source": [
    "###### Discrete dist Binary output.\n",
    "###### Parameter- n(number of trails), p(probability),size(shape-returned array)\n",
    "###### Given 10 trial for a coin which will generate 10 data points.\n",
    "\n"
   ]
  },
  {
   "cell_type": "code",
   "execution_count": 69,
   "id": "deda4102",
   "metadata": {},
   "outputs": [
    {
     "name": "stdout",
     "output_type": "stream",
     "text": [
      "[4 4 7 2 4 4 5 4 5 4]\n"
     ]
    }
   ],
   "source": [
    "x = random.binomial(n=10,p=0.5,size=10)\n",
    "print(x)"
   ]
  },
  {
   "cell_type": "code",
   "execution_count": 72,
   "id": "f2d6debe",
   "metadata": {},
   "outputs": [
    {
     "name": "stderr",
     "output_type": "stream",
     "text": [
      "C:\\Users\\musun\\AppData\\Local\\Temp\\ipykernel_7748\\3062107804.py:1: UserWarning: \n",
      "\n",
      "`distplot` is a deprecated function and will be removed in seaborn v0.14.0.\n",
      "\n",
      "Please adapt your code to use either `displot` (a figure-level function with\n",
      "similar flexibility) or `histplot` (an axes-level function for histograms).\n",
      "\n",
      "For a guide to updating your code to use the new functions, please see\n",
      "https://gist.github.com/mwaskom/de44147ed2974457ad6372750bbe5751\n",
      "\n",
      "  sns.distplot(random.binomial(n=10 , p=0.5,size=1000),hist= True, kde=False)\n"
     ]
    },
    {
     "data": {
      "image/png": "[encoded data removed]",
      "text/plain": [
       "<Figure size 640x480 with 1 Axes>"
      ]
     },
     "metadata": {},
     "output_type": "display_data"
    }
   ],
   "source": [
    "sns.distplot(random.binomial(n=10 , p=0.5,size=1000),hist= True, kde=False)\n",
    "plt.show()"
   ]
  },
  {
   "cell_type": "code",
   "execution_count": null,
   "id": "f2eef89d",
   "metadata": {},
   "outputs": [],
   "source": []
  },
  {
   "cell_type": "code",
   "execution_count": null,
   "id": "acb4e292",
   "metadata": {},
   "outputs": [],
   "source": []
  },
  {
   "cell_type": "code",
   "execution_count": null,
   "id": "fa511413",
   "metadata": {},
   "outputs": [],
   "source": []
  },
  {
   "cell_type": "code",
   "execution_count": null,
   "id": "41c092d1",
   "metadata": {},
   "outputs": [],
   "source": []
  },
  {
   "cell_type": "code",
   "execution_count": null,
   "id": "d3e12bf4",
   "metadata": {},
   "outputs": [],
   "source": []
  },
  {
   "cell_type": "code",
   "execution_count": null,
   "id": "8d10f051",
   "metadata": {},
   "outputs": [],
   "source": []
  },
  {
   "cell_type": "code",
   "execution_count": null,
   "id": "420040c4",
   "metadata": {},
   "outputs": [],
   "source": []
  },
  {
   "cell_type": "code",
   "execution_count": null,
   "id": "c167ad7f",
   "metadata": {},
   "outputs": [],
   "source": []
  },
  {
   "cell_type": "code",
   "execution_count": null,
   "id": "a0be997a",
   "metadata": {},
   "outputs": [],
   "source": []
  },
  {
   "cell_type": "code",
   "execution_count": null,
   "id": "07bc0df7",
   "metadata": {},
   "outputs": [],
   "source": []
  },
  {
   "cell_type": "code",
   "execution_count": null,
   "id": "747650d9",
   "metadata": {},
   "outputs": [],
   "source": []
  },
  {
   "cell_type": "code",
   "execution_count": null,
   "id": "4c762040",
   "metadata": {},
   "outputs": [],
   "source": []
  },
  {
   "cell_type": "code",
   "execution_count": null,
   "id": "e0927ab2",
   "metadata": {},
   "outputs": [],
   "source": []
  },
  {
   "cell_type": "code",
   "execution_count": null,
   "id": "bbde3905",
   "metadata": {},
   "outputs": [],
   "source": []
  },
  {
   "cell_type": "code",
   "execution_count": null,
   "id": "3944ca23",
   "metadata": {},
   "outputs": [],
   "source": []
  },
  {
   "cell_type": "code",
   "execution_count": null,
   "id": "5988a5ee",
   "metadata": {},
   "outputs": [],
   "source": []
  }
 ],
 "metadata": {
  "kernelspec": {
   "display_name": "Python 3 (ipykernel)",
   "language": "python",
   "name": "python3"
  },
  "language_info": {
   "codemirror_mode": {
    "name": "ipython",
    "version": 3
   },
   "file_extension": ".py",
   "mimetype": "text/x-python",
   "name": "python",
   "nbconvert_exporter": "python",
   "pygments_lexer": "ipython3",
   "version": "3.10.9"
  }
 },
 "nbformat": 4,
 "nbformat_minor": 5
}
